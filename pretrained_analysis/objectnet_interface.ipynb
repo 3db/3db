{
 "cells": [
  {
   "cell_type": "code",
   "execution_count": 18,
   "metadata": {},
   "outputs": [],
   "source": [
    "import os, sys, json\n",
    "sys.path.append('..')\n",
    "import numpy as np\n",
    "import torch as ch\n",
    "import pandas as pd\n",
    "import resource\n",
    "from tqdm.notebook import tqdm\n",
    "from robustness.model_utils import make_and_restore_model\n",
    "from robustness.tools.vis_tools import show_image_row\n",
    "from robustness import datasets\n",
    "from robustness.tools.label_maps import CLASS_DICT\n",
    "import matplotlib.pyplot as plt\n",
    "import seaborn as sns\n",
    "from PIL import Image\n",
    "from collections import Counter\n",
    "from objectnet_utils import load_ObjectNet, map_ImageNetToObjectNet, OBJN_TO_IN_MAP, LABEL_TO_IND\n",
    "\n",
    "sns.set_style('darkgrid')"
   ]
  },
  {
   "cell_type": "code",
   "execution_count": 2,
   "metadata": {},
   "outputs": [
    {
     "name": "stdout",
     "output_type": "stream",
     "text": [
      "==> Preparing dataset imagenet..\n"
     ]
    }
   ],
   "source": [
    "DATA_DIR = '/scratch/datasets/sandbox/objectnet-1.0' \n",
    "dataset, test_loader, label_map = load_ObjectNet(DATA_DIR, workers=5) #from objectnet class no -> folder name\n",
    "label_map_r = {v: k for k, v in label_map.items()}"
   ]
  },
  {
   "cell_type": "code",
   "execution_count": null,
   "metadata": {},
   "outputs": [],
   "source": [
    "_, (im, targ) = next(enumerate(test_loader))"
   ]
  },
  {
   "cell_type": "code",
   "execution_count": null,
   "metadata": {},
   "outputs": [],
   "source": [
    "show_image_row([im[:10]], tlist=[[label_map[int(t)] for t in targ]],\n",
    "               fontsize=20)"
   ]
  },
  {
   "cell_type": "code",
   "execution_count": null,
   "metadata": {},
   "outputs": [],
   "source": [
    "with open(os.path.join('../quality_control', 'label_map.json')) as f:\n",
    "    corrected_mapping = json.load(f) # Chungus name -> folder name"
   ]
  },
  {
   "cell_type": "code",
   "execution_count": null,
   "metadata": {},
   "outputs": [],
   "source": [
    "#corrected_mapping"
   ]
  },
  {
   "cell_type": "code",
   "execution_count": null,
   "metadata": {},
   "outputs": [],
   "source": [
    "with open(os.path.join(DATA_DIR, 'mappings', 'folder_to_objectnet_label.json')) as f:\n",
    "    folder_to_label = json.load(f) # folder name -> name\n",
    "    \n",
    "with open(os.path.join(DATA_DIR, 'mappings', 'imagenet_1k_indices_to_objectnet.json')) as f:\n",
    "    in_to_obj_orig = json.load(f) # str imagenet class number -> name"
   ]
  },
  {
   "cell_type": "code",
   "execution_count": null,
   "metadata": {},
   "outputs": [],
   "source": [
    "#folder_to_label, in_to_obj_orig"
   ]
  },
  {
   "cell_type": "code",
   "execution_count": null,
   "metadata": {},
   "outputs": [],
   "source": [
    "label_map_r['drying_rack_for_dishes']"
   ]
  },
  {
   "cell_type": "code",
   "execution_count": null,
   "metadata": {},
   "outputs": [],
   "source": [
    "obj_to_in = {} # ImageNet class no -> Objectnet class\n",
    "for k, v in in_to_obj_orig.items():\n",
    "    if ')(' in v: \n",
    "        vv = v.split(')(')[0] + \")\"\n",
    "    else:\n",
    "        vv = v.split(\"(\")[0]\n",
    "    # vv: Name for class\n",
    "    # Now map name -> folder_name\n",
    "    km = [kf for kf, vf in folder_to_label.items() if vv == vf][0]\n",
    "    km = label_map_r[km] #Map folder name back to objectnet class\n",
    "    if km not in obj_to_in: \n",
    "        obj_to_in[km] = []\n",
    "    obj_to_in[km].append(int(k))"
   ]
  },
  {
   "cell_type": "code",
   "execution_count": 11,
   "metadata": {},
   "outputs": [
    {
     "data": {
      "text/plain": [
       "{1: [409, 530],\n",
       " 2: [414],\n",
       " 4: [954],\n",
       " 5: [419],\n",
       " 8: [790],\n",
       " 108: [434],\n",
       " 12: [440],\n",
       " 15: [703],\n",
       " 16: [671, 444],\n",
       " 19: [446],\n",
       " 28: [455],\n",
       " 34: [930],\n",
       " 37: [462],\n",
       " 38: [463],\n",
       " 39: [499],\n",
       " 43: [473],\n",
       " 44: [470],\n",
       " 47: [487],\n",
       " 51: [423, 559, 765],\n",
       " 56: [588],\n",
       " 60: [550],\n",
       " 66: [507],\n",
       " 67: [673],\n",
       " 73: [846],\n",
       " 116: [533],\n",
       " 78: [539],\n",
       " 83: [630],\n",
       " 85: [740],\n",
       " 86: [968],\n",
       " 89: [729],\n",
       " 96: [549],\n",
       " 100: [545],\n",
       " 107: [567],\n",
       " 80: [578],\n",
       " 111: [589],\n",
       " 114: [587],\n",
       " 120: [560, 518],\n",
       " 124: [606],\n",
       " 128: [608],\n",
       " 131: [508],\n",
       " 132: [618],\n",
       " 133: [619],\n",
       " 135: [620],\n",
       " 138: [951],\n",
       " 139: [623],\n",
       " 142: [626],\n",
       " 143: [629],\n",
       " 149: [644],\n",
       " 150: [647],\n",
       " 151: [651],\n",
       " 153: [659],\n",
       " 154: [664],\n",
       " 157: [504],\n",
       " 160: [677],\n",
       " 164: [679],\n",
       " 171: [950],\n",
       " 173: [695],\n",
       " 175: [696],\n",
       " 179: [700],\n",
       " 182: [418, 749, 563],\n",
       " 188: [720],\n",
       " 190: [721],\n",
       " 191: [725],\n",
       " 193: [728],\n",
       " 196: [923],\n",
       " 199: [731],\n",
       " 200: [737],\n",
       " 201: [811],\n",
       " 205: [742],\n",
       " 210: [761],\n",
       " 216: [769],\n",
       " 217: [770],\n",
       " 218: [772],\n",
       " 219: [773],\n",
       " 220: [774],\n",
       " 223: [783],\n",
       " 229: [792],\n",
       " 231: [601, 655, 689],\n",
       " 232: [797],\n",
       " 235: [804],\n",
       " 236: [806],\n",
       " 237: [809],\n",
       " 238: [813],\n",
       " 239: [632],\n",
       " 248: [732, 759],\n",
       " 250: [828],\n",
       " 251: [850],\n",
       " 253: [834],\n",
       " 255: [837],\n",
       " 256: [841],\n",
       " 257: [842],\n",
       " 258: [610],\n",
       " 287: [851],\n",
       " 267: [849],\n",
       " 268: [752],\n",
       " 272: [457, 906],\n",
       " 274: [859],\n",
       " 275: [999],\n",
       " 283: [412],\n",
       " 285: [868],\n",
       " 289: [879],\n",
       " 292: [882],\n",
       " 293: [883],\n",
       " 297: [893],\n",
       " 298: [531],\n",
       " 299: [898],\n",
       " 302: [543],\n",
       " 303: [778],\n",
       " 304: [479, 694],\n",
       " 306: [902],\n",
       " 307: [907],\n",
       " 309: [658],\n",
       " 310: [909]}"
      ]
     },
     "execution_count": 11,
     "metadata": {},
     "output_type": "execute_result"
    }
   ],
   "source": [
    "obj_to_in"
   ]
  },
  {
   "cell_type": "code",
   "execution_count": 12,
   "metadata": {},
   "outputs": [],
   "source": [
    "label_to_ind = {}\n",
    "\n",
    "for k, v in corrected_mapping.items():\n",
    "    #print(k, v)\n",
    "    km = [kf for kf, vf in label_map.items() if v == vf][0]\n",
    "    if km == 88:\n",
    "        print(k, v)\n",
    "        break\n",
    "    label_to_ind[k] = km\n",
    "    #break"
   ]
  },
  {
   "cell_type": "code",
   "execution_count": 13,
   "metadata": {},
   "outputs": [],
   "source": [
    "for k, v in label_to_ind.items():\n",
    "    if v not in obj_to_in:\n",
    "        print(v, k)"
   ]
  },
  {
   "cell_type": "markdown",
   "metadata": {},
   "source": [
    "## Get model"
   ]
  },
  {
   "cell_type": "code",
   "execution_count": 3,
   "metadata": {},
   "outputs": [],
   "source": [
    "IN_DIR = '/scratch/engstrom_scratch/imagenet'"
   ]
  },
  {
   "cell_type": "code",
   "execution_count": 13,
   "metadata": {
    "scrolled": true
   },
   "outputs": [],
   "source": [
    "m, _ = make_and_restore_model(arch='resnet50', \n",
    "                                          dataset=datasets.ImageNet(IN_DIR),\n",
    "                                          pytorch_pretrained=True)\n",
    "m.eval()\n",
    "m = ch.nn.DataParallel(m.cuda())"
   ]
  },
  {
   "cell_type": "code",
   "execution_count": 14,
   "metadata": {},
   "outputs": [],
   "source": [
    "def get_preds(model, loader, map_dict, mode='restrict'):\n",
    "    total = [0, 0]\n",
    "    in_classes = [] \n",
    "    for v in map_dict.values():\n",
    "        in_classes.extend(v)\n",
    "    in_classes = list(set(in_classes))\n",
    "    res = {'labs': [], 'preds': []}\n",
    "    with ch.no_grad():\n",
    "        for _, (im, targ) in enumerate(loader):\n",
    "            op, _ = model(im)\n",
    "            if mode != 'restrict':\n",
    "                pred = ch.argmax(op, dim=1).cpu()\n",
    "            else:\n",
    "                # ch.gather\n",
    "                op = op[:, in_classes]\n",
    "                pred = ch.argmax(op, dim=1).cpu()\n",
    "                pred = ch.tensor([in_classes[int(p)] for p in pred])\n",
    "                \n",
    "            corr = []\n",
    "            for p, l in zip(pred, targ):\n",
    "                if int(l) not in map_dict: continue\n",
    "                corr.append(int(p) in map_dict[int(l)])\n",
    "                res['labs'].append(str(map_dict[int(l)]))\n",
    "                res['preds'].append(int(p))\n",
    "            total[0] += sum(corr)\n",
    "            total[1] += len(corr)\n",
    "    return total, res"
   ]
  },
  {
   "cell_type": "code",
   "execution_count": 15,
   "metadata": {},
   "outputs": [],
   "source": [
    "acc, res = get_preds(m, test_loader, OBJN_TO_IN_MAP)"
   ]
  },
  {
   "cell_type": "code",
   "execution_count": 16,
   "metadata": {},
   "outputs": [
    {
     "data": {
      "text/plain": [
       "0.362980510390869"
      ]
     },
     "execution_count": 16,
     "metadata": {},
     "output_type": "execute_result"
    }
   ],
   "source": [
    "acc[0] / acc[1]"
   ]
  },
  {
   "cell_type": "code",
   "execution_count": 38,
   "metadata": {},
   "outputs": [],
   "source": [
    "df = pd.DataFrame(res)\n",
    "df['uids'] = np.arange(len(df))"
   ]
  },
  {
   "cell_type": "code",
   "execution_count": 39,
   "metadata": {},
   "outputs": [],
   "source": [
    "df = df.groupby(['labs', 'preds']).agg(num=('uids', 'count')).reset_index()\n",
    "df['labs_int'] = df.labs.apply(lambda x: [int(xx) for xx in x[1:-1].split(',')])\n",
    "df['sameclass'] = df.apply(lambda r: r['preds'] in r['labs_int'], axis=1)"
   ]
  },
  {
   "cell_type": "code",
   "execution_count": 42,
   "metadata": {},
   "outputs": [
    {
     "data": {
      "text/html": [
       "<div>\n",
       "<style scoped>\n",
       "    .dataframe tbody tr th:only-of-type {\n",
       "        vertical-align: middle;\n",
       "    }\n",
       "\n",
       "    .dataframe tbody tr th {\n",
       "        vertical-align: top;\n",
       "    }\n",
       "\n",
       "    .dataframe thead th {\n",
       "        text-align: right;\n",
       "    }\n",
       "</style>\n",
       "<table border=\"1\" class=\"dataframe\">\n",
       "  <thead>\n",
       "    <tr style=\"text-align: right;\">\n",
       "      <th>sameclass</th>\n",
       "      <th>labs</th>\n",
       "      <th>False</th>\n",
       "      <th>True</th>\n",
       "      <th>acc</th>\n",
       "      <th>count</th>\n",
       "    </tr>\n",
       "  </thead>\n",
       "  <tbody>\n",
       "    <tr>\n",
       "      <th>0</th>\n",
       "      <td>[409, 530]</td>\n",
       "      <td>115</td>\n",
       "      <td>29</td>\n",
       "      <td>0.201389</td>\n",
       "      <td>144</td>\n",
       "    </tr>\n",
       "    <tr>\n",
       "      <th>1</th>\n",
       "      <td>[412]</td>\n",
       "      <td>211</td>\n",
       "      <td>31</td>\n",
       "      <td>0.128099</td>\n",
       "      <td>242</td>\n",
       "    </tr>\n",
       "    <tr>\n",
       "      <th>2</th>\n",
       "      <td>[414]</td>\n",
       "      <td>100</td>\n",
       "      <td>135</td>\n",
       "      <td>0.574468</td>\n",
       "      <td>235</td>\n",
       "    </tr>\n",
       "    <tr>\n",
       "      <th>3</th>\n",
       "      <td>[418, 749, 563]</td>\n",
       "      <td>73</td>\n",
       "      <td>116</td>\n",
       "      <td>0.613757</td>\n",
       "      <td>189</td>\n",
       "    </tr>\n",
       "    <tr>\n",
       "      <th>4</th>\n",
       "      <td>[419]</td>\n",
       "      <td>104</td>\n",
       "      <td>140</td>\n",
       "      <td>0.573770</td>\n",
       "      <td>244</td>\n",
       "    </tr>\n",
       "    <tr>\n",
       "      <th>...</th>\n",
       "      <td>...</td>\n",
       "      <td>...</td>\n",
       "      <td>...</td>\n",
       "      <td>...</td>\n",
       "      <td>...</td>\n",
       "    </tr>\n",
       "    <tr>\n",
       "      <th>108</th>\n",
       "      <td>[950]</td>\n",
       "      <td>57</td>\n",
       "      <td>86</td>\n",
       "      <td>0.601399</td>\n",
       "      <td>143</td>\n",
       "    </tr>\n",
       "    <tr>\n",
       "      <th>109</th>\n",
       "      <td>[951]</td>\n",
       "      <td>45</td>\n",
       "      <td>103</td>\n",
       "      <td>0.695946</td>\n",
       "      <td>148</td>\n",
       "    </tr>\n",
       "    <tr>\n",
       "      <th>110</th>\n",
       "      <td>[954]</td>\n",
       "      <td>55</td>\n",
       "      <td>180</td>\n",
       "      <td>0.765957</td>\n",
       "      <td>235</td>\n",
       "    </tr>\n",
       "    <tr>\n",
       "      <th>111</th>\n",
       "      <td>[968]</td>\n",
       "      <td>155</td>\n",
       "      <td>4</td>\n",
       "      <td>0.025157</td>\n",
       "      <td>159</td>\n",
       "    </tr>\n",
       "    <tr>\n",
       "      <th>112</th>\n",
       "      <td>[999]</td>\n",
       "      <td>101</td>\n",
       "      <td>103</td>\n",
       "      <td>0.504902</td>\n",
       "      <td>204</td>\n",
       "    </tr>\n",
       "  </tbody>\n",
       "</table>\n",
       "<p>113 rows × 5 columns</p>\n",
       "</div>"
      ],
      "text/plain": [
       "sameclass             labs  False  True       acc  count\n",
       "0               [409, 530]    115    29  0.201389    144\n",
       "1                    [412]    211    31  0.128099    242\n",
       "2                    [414]    100   135  0.574468    235\n",
       "3          [418, 749, 563]     73   116  0.613757    189\n",
       "4                    [419]    104   140  0.573770    244\n",
       "..                     ...    ...   ...       ...    ...\n",
       "108                  [950]     57    86  0.601399    143\n",
       "109                  [951]     45   103  0.695946    148\n",
       "110                  [954]     55   180  0.765957    235\n",
       "111                  [968]    155     4  0.025157    159\n",
       "112                  [999]    101   103  0.504902    204\n",
       "\n",
       "[113 rows x 5 columns]"
      ]
     },
     "execution_count": 42,
     "metadata": {},
     "output_type": "execute_result"
    }
   ],
   "source": [
    "perclass_acc_df = df.groupby(['sameclass', 'labs']).agg({'num': 'sum'}).reset_index()\n",
    "perclass_acc_df = perclass_acc_df.pivot_table(index=['labs'], \n",
    "                                              columns='sameclass', values='num',\n",
    "                                              fill_value=0).reset_index()\n",
    "perclass_acc_df['acc'] = perclass_acc_df[True] / (perclass_acc_df[True] + perclass_acc_df[False])\n",
    "perclass_acc_df['count'] = (perclass_acc_df[True] + perclass_acc_df[False])\n",
    "perclass_acc_df"
   ]
  },
  {
   "cell_type": "code",
   "execution_count": 43,
   "metadata": {},
   "outputs": [
    {
     "data": {
      "text/plain": [
       "0.362980510390869"
      ]
     },
     "execution_count": 43,
     "metadata": {},
     "output_type": "execute_result"
    }
   ],
   "source": [
    "np.sum(perclass_acc_df['acc'] * perclass_acc_df['count']) / np.sum(perclass_acc_df['count'])"
   ]
  },
  {
   "cell_type": "code",
   "execution_count": 44,
   "metadata": {},
   "outputs": [
    {
     "data": {
      "image/png": "[encoded data removed]",
      "text/plain": [
       "<Figure size 432x288 with 1 Axes>"
      ]
     },
     "metadata": {},
     "output_type": "display_data"
    }
   ],
   "source": [
    "sns.distplot(100 * perclass_acc_df['acc'], kde=False, bins=20)\n",
    "plt.xlabel('Per-class accuracy (%)', fontsize=16)\n",
    "plt.ylabel('# Classes', fontsize=16)\n",
    "plt.show()"
   ]
  },
  {
   "cell_type": "markdown",
   "metadata": {},
   "source": [
    "## Load synthetic data"
   ]
  },
  {
   "cell_type": "code",
   "execution_count": 19,
   "metadata": {},
   "outputs": [],
   "source": [
    "from pathlib import Path\n",
    "from torchvision import transforms\n",
    "from utils import RGBAToRGB, ModelDataset, details_df\n",
    "from colorsys import hsv_to_rgb, rgb_to_hsv\n",
    "from make_predictions import make_predictions"
   ]
  },
  {
   "cell_type": "code",
   "execution_count": 20,
   "metadata": {},
   "outputs": [],
   "source": [
    "DS_PATH = '/scratch/datasets/sandbox/v0'\n",
    "ds_path = Path(DS_PATH)\n",
    "root_df = details_df(ds_path)\n",
    "ds = datasets.ImageNet((ds_path, root_df))"
   ]
  },
  {
   "cell_type": "code",
   "execution_count": 34,
   "metadata": {},
   "outputs": [],
   "source": [
    "ds.custom_class = ModelDataset\n",
    "ds.custom_class_args = {\n",
    "    'subset': 10000\n",
    "}\n",
    "ds.transform_test = transforms.Compose([\n",
    "            RGBAToRGB(hsv_to_rgb(1, 1, 1)),\n",
    "            #transforms.CenterCrop((40, 40)),\n",
    "            transforms.CenterCrop(224),\n",
    "            transforms.ToTensor()\n",
    "        ])"
   ]
  },
  {
   "cell_type": "code",
   "execution_count": 1,
   "metadata": {},
   "outputs": [
    {
     "ename": "NameError",
     "evalue": "name 'ds' is not defined",
     "output_type": "error",
     "traceback": [
      "\u001b[0;31m---------------------------------------------------------------------------\u001b[0m",
      "\u001b[0;31mNameError\u001b[0m                                 Traceback (most recent call last)",
      "\u001b[0;32m<ipython-input-1-84c3967a03a7>\u001b[0m in \u001b[0;36m<module>\u001b[0;34m\u001b[0m\n\u001b[0;32m----> 1\u001b[0;31m _, loader = ds.make_loaders(workers=10, \n\u001b[0m\u001b[1;32m      2\u001b[0m                             \u001b[0mbatch_size\u001b[0m\u001b[0;34m=\u001b[0m\u001b[0;36m10\u001b[0m\u001b[0;34m,\u001b[0m\u001b[0;34m\u001b[0m\u001b[0m\n\u001b[1;32m      3\u001b[0m                             only_val=True)\n",
      "\u001b[0;31mNameError\u001b[0m: name 'ds' is not defined"
     ]
    }
   ],
   "source": [
    "_, loader = ds.make_loaders(workers=10, \n",
    "                            batch_size=10, \n",
    "                            only_val=True)"
   ]
  },
  {
   "cell_type": "code",
   "execution_count": 46,
   "metadata": {},
   "outputs": [
    {
     "ename": "NameError",
     "evalue": "name 'OBJ_TO_IN' is not defined",
     "output_type": "error",
     "traceback": [
      "\u001b[0;31m---------------------------------------------------------------------------\u001b[0m",
      "\u001b[0;31mNameError\u001b[0m                                 Traceback (most recent call last)",
      "\u001b[0;32m<ipython-input-46-43ead7953191>\u001b[0m in \u001b[0;36m<module>\u001b[0;34m\u001b[0m\n\u001b[0;32m----> 1\u001b[0;31m \u001b[0mOBJ_TO_IN\u001b[0m\u001b[0;34m\u001b[0m\u001b[0m\n\u001b[0m",
      "\u001b[0;31mNameError\u001b[0m: name 'OBJ_TO_IN' is not defined"
     ]
    }
   ],
   "source": [
    "OBJ_TO_IN"
   ]
  },
  {
   "cell_type": "code",
   "execution_count": 36,
   "metadata": {},
   "outputs": [],
   "source": [
    "_, res = next(enumerate(loader))\n",
    "im, targ = res[0], res[1]"
   ]
  },
  {
   "cell_type": "code",
   "execution_count": 37,
   "metadata": {},
   "outputs": [
    {
     "data": {
      "image/png": "[encoded data removed]",
      "text/plain": [
       "<Figure size 1800x180 with 10 Axes>"
      ]
     },
     "metadata": {},
     "output_type": "display_data"
    }
   ],
   "source": [
    "show_image_row([im[:10]], tlist=[[label_map[int(t)] for t in targ]],\n",
    "               fontsize=20)"
   ]
  },
  {
   "cell_type": "code",
   "execution_count": 39,
   "metadata": {},
   "outputs": [
    {
     "name": "stderr",
     "output_type": "stream",
     "text": [
      "  0%|          | 0/100 [00:00<?, ?it/s]"
     ]
    },
    {
     "name": "stdout",
     "output_type": "stream",
     "text": [
      "==> Preparing dataset imagenet..\n"
     ]
    },
    {
     "name": "stderr",
     "output_type": "stream",
     "text": [
      "100%|██████████| 100/100 [00:14<00:00,  6.70it/s]\n"
     ]
    }
   ],
   "source": [
    "acc_df = make_predictions(m, ds, OBJN_TO_IN_MAP, \n",
    "                          mode='restrict',\n",
    "                         workers=4, batch_size=100)"
   ]
  },
  {
   "cell_type": "code",
   "execution_count": 40,
   "metadata": {},
   "outputs": [],
   "source": [
    "acc_df['corr'] = acc_df.apply(lambda r: r['preds'] in r['labs'], axis=1)"
   ]
  },
  {
   "cell_type": "code",
   "execution_count": 41,
   "metadata": {},
   "outputs": [
    {
     "data": {
      "text/plain": [
       "20.979999999999997"
      ]
     },
     "execution_count": 41,
     "metadata": {},
     "output_type": "execute_result"
    }
   ],
   "source": [
    "100 * np.mean(acc_df['corr'])"
   ]
  },
  {
   "cell_type": "code",
   "execution_count": 20,
   "metadata": {},
   "outputs": [],
   "source": [
    "from sklearn.metrics import confusion_matrix"
   ]
  },
  {
   "cell_type": "code",
   "execution_count": 21,
   "metadata": {},
   "outputs": [],
   "source": [
    "CM = confusion_matrix(acc_df['labs'], acc_df['preds'], normalize='true')"
   ]
  },
  {
   "cell_type": "code",
   "execution_count": 22,
   "metadata": {},
   "outputs": [
    {
     "data": {
      "image/png": "[encoded data removed]",
      "text/plain": [
       "<Figure size 432x288 with 2 Axes>"
      ]
     },
     "metadata": {},
     "output_type": "display_data"
    }
   ],
   "source": [
    "sns.heatmap(CM, cmap='RdBu')\n",
    "plt.show()"
   ]
  },
  {
   "cell_type": "code",
   "execution_count": 23,
   "metadata": {},
   "outputs": [
    {
     "name": "stderr",
     "output_type": "stream",
     "text": [
      "/opt/miniconda/lib/python3.6/site-packages/seaborn/distributions.py:2551: FutureWarning: `distplot` is a deprecated function and will be removed in a future version. Please adapt your code to use either `displot` (a figure-level function with similar flexibility) or `histplot` (an axes-level function for histograms).\n",
      "  warnings.warn(msg, FutureWarning)\n"
     ]
    },
    {
     "data": {
      "image/png": "[encoded data removed]",
      "text/plain": [
       "<Figure size 432x288 with 1 Axes>"
      ]
     },
     "metadata": {},
     "output_type": "display_data"
    }
   ],
   "source": [
    "sns.distplot(100 * np.diag(CM), kde=False)\n",
    "plt.xlabel('Accuracy')\n",
    "plt.ylabel('# Classes')\n",
    "plt.show()"
   ]
  },
  {
   "cell_type": "code",
   "execution_count": 24,
   "metadata": {},
   "outputs": [
    {
     "name": "stdout",
     "output_type": "stream",
     "text": [
      "[('board_game', '80.82'), ('dress_shirt', '66.73'), ('beer_bottle', '64.82'), ('butter', '64.67'), ('coffee_french_press', '63.21'), ('bookend', '60.66'), ('banana', '59.47'), ('coaster', '52.71'), ('extension_cable', '51.23'), ('bike_pump', '49.16')]\n"
     ]
    }
   ],
   "source": [
    "idx = np.argsort(np.diag(CM))[::-1]\n",
    "\n",
    "print([(label_map[l], f\"{100 * np.diag(CM)[l]:.2f}\") for l in idx[:10]])"
   ]
  },
  {
   "cell_type": "code",
   "execution_count": 25,
   "metadata": {},
   "outputs": [
    {
     "data": {
      "image/png": "[encoded data removed]",
      "text/plain": [
       "<Figure size 432x288 with 1 Axes>"
      ]
     },
     "metadata": {},
     "output_type": "display_data"
    }
   ],
   "source": [
    "sns.distplot(acc_df['labs'], kde=False)\n",
    "plt.show()"
   ]
  },
  {
   "cell_type": "code",
   "execution_count": 26,
   "metadata": {},
   "outputs": [
    {
     "data": {
      "text/plain": [
       "1002650"
      ]
     },
     "execution_count": 26,
     "metadata": {},
     "output_type": "execute_result"
    }
   ],
   "source": [
    "len(acc_df['labs'])"
   ]
  },
  {
   "cell_type": "code",
   "execution_count": 27,
   "metadata": {},
   "outputs": [
    {
     "data": {
      "text/plain": [
       "{1: 409,\n",
       " 2: 414,\n",
       " 4: 954,\n",
       " 5: 419,\n",
       " 8: 790,\n",
       " 9: 434,\n",
       " 12: 440,\n",
       " 15: 703,\n",
       " 16: 671,\n",
       " 19: 446,\n",
       " 28: 455,\n",
       " 34: 930,\n",
       " 37: 462,\n",
       " 38: 463,\n",
       " 39: 499,\n",
       " 43: 473,\n",
       " 44: 470,\n",
       " 47: 487,\n",
       " 51: 423,\n",
       " 56: 588,\n",
       " 60: 550,\n",
       " 66: 507,\n",
       " 67: 673,\n",
       " 73: 846,\n",
       " 116: 533,\n",
       " 78: 539,\n",
       " 83: 630,\n",
       " 85: 740,\n",
       " 86: 968,\n",
       " 89: 729,\n",
       " 96: 549,\n",
       " 100: 545,\n",
       " 107: 567,\n",
       " 80: 578,\n",
       " 111: 589,\n",
       " 114: 587,\n",
       " 120: 560,\n",
       " 124: 606,\n",
       " 128: 608,\n",
       " 131: 508,\n",
       " 132: 618,\n",
       " 133: 619,\n",
       " 135: 620,\n",
       " 138: 951,\n",
       " 139: 623,\n",
       " 142: 626,\n",
       " 143: 629,\n",
       " 149: 644,\n",
       " 150: 647,\n",
       " 151: 651,\n",
       " 153: 659,\n",
       " 154: 664,\n",
       " 157: 504,\n",
       " 160: 677,\n",
       " 164: 679,\n",
       " 171: 950,\n",
       " 173: 695,\n",
       " 175: 696,\n",
       " 179: 700,\n",
       " 182: 418,\n",
       " 188: 720,\n",
       " 190: 721,\n",
       " 191: 725,\n",
       " 193: 728,\n",
       " 196: 923,\n",
       " 199: 731,\n",
       " 200: 737,\n",
       " 201: 811,\n",
       " 205: 742,\n",
       " 210: 761,\n",
       " 216: 769,\n",
       " 217: 770,\n",
       " 218: 772,\n",
       " 219: 773,\n",
       " 220: 774,\n",
       " 223: 783,\n",
       " 229: 792,\n",
       " 231: 601,\n",
       " 232: 797,\n",
       " 235: 804,\n",
       " 236: 806,\n",
       " 237: 809,\n",
       " 238: 813,\n",
       " 239: 632,\n",
       " 248: 732,\n",
       " 250: 828,\n",
       " 251: 850,\n",
       " 253: 834,\n",
       " 255: 837,\n",
       " 256: 841,\n",
       " 257: 842,\n",
       " 258: 610,\n",
       " 287: 851,\n",
       " 267: 849,\n",
       " 268: 752,\n",
       " 272: 457,\n",
       " 274: 859,\n",
       " 275: 999,\n",
       " 283: 412,\n",
       " 285: 868,\n",
       " 289: 879,\n",
       " 292: 882,\n",
       " 293: 883,\n",
       " 297: 893,\n",
       " 298: 531,\n",
       " 299: 898,\n",
       " 302: 543,\n",
       " 303: 778,\n",
       " 304: 479,\n",
       " 306: 902,\n",
       " 307: 907,\n",
       " 309: 658,\n",
       " 310: 909}"
      ]
     },
     "execution_count": 27,
     "metadata": {},
     "output_type": "execute_result"
    }
   ],
   "source": [
    "obj_to_in_map"
   ]
  },
  {
   "cell_type": "code",
   "execution_count": null,
   "metadata": {},
   "outputs": [],
   "source": []
  }
 ],
 "metadata": {
  "kernelspec": {
   "display_name": "Python 3",
   "language": "python",
   "name": "python3"
  },
  "language_info": {
   "codemirror_mode": {
    "name": "ipython",
    "version": 3
   },
   "file_extension": ".py",
   "mimetype": "text/x-python",
   "name": "python",
   "nbconvert_exporter": "python",
   "pygments_lexer": "ipython3",
   "version": "3.6.3"
  }
 },
 "nbformat": 4,
 "nbformat_minor": 4
}
