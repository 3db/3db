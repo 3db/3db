{
 "cells": [
  {
   "cell_type": "code",
   "execution_count": 1,
   "metadata": {},
   "outputs": [],
   "source": [
    "import pandas as pd\n",
    "import matplotlib.pyplot as plt\n",
    "import seaborn as sns\n",
    "import numpy as np\n",
    "from tqdm.notebook import tqdm\n",
    "from ipywidgets import Button, Layout, jslink, IntText, IntSlider, Image, HTML\n",
    "from ipywidgets import AppLayout, Button, Layout, GridspecLayout, IntProgress, Output, VBox, HBox\n",
    "from numba.typed import List\n",
    "from numba import njit, prange\n",
    "from collections import deque\n",
    "from os import path\n",
    "import pickle\n",
    "pd.set_option('display.max_columns', None)"
   ]
  },
  {
   "cell_type": "code",
   "execution_count": 2,
   "metadata": {},
   "outputs": [
    {
     "name": "stderr",
     "output_type": "stream",
     "text": [
      "/home/guillaume/anaconda3/lib/python3.7/site-packages/IPython/core/interactiveshell.py:3058: DtypeWarning: Columns (0,9,10,11) have mixed types. Specify dtype option on import or set low_memory=False.\n",
      "  interactivity=interactivity, compiler=compiler, result=result)\n"
     ]
    }
   ],
   "source": [
    "frame = pd.read_csv('./output.csv', index_col=0)\n",
    "frame['name'] = frame['name'].str.lower().astype('str')\n",
    "frame['class'] = frame['class'].str.lower().astype('str')\n",
    "frame[['price']] = frame['price'].fillna(value=0)\n",
    "if 'status' not in frame.columns:\n",
    "    frame['status'] = np.full(len(frame), -1)"
   ]
  },
  {
   "cell_type": "code",
   "execution_count": 3,
   "metadata": {},
   "outputs": [],
   "source": [
    "with open('./classes.txt') as cl_file:\n",
    "    classes = [x.strip().lower() for x in cl_file.readlines()]"
   ]
  },
  {
   "cell_type": "code",
   "execution_count": 4,
   "metadata": {},
   "outputs": [],
   "source": [
    "def to_numba_list(strings):\n",
    "    result = List()\n",
    "    for x in strings:\n",
    "        result.append(x)\n",
    "    return result\n",
    "        \n",
    "        \n",
    "@njit(parallel=True)\n",
    "def disable_bad_items_numba(classes, names, statuses):\n",
    "    for i in prange(len(classes)):\n",
    "        name = names[i]\n",
    "        clazz = classes[i]\n",
    "        ok = False\n",
    "        for word in clazz:\n",
    "            if word in name:\n",
    "                ok=True\n",
    "                break\n",
    "        if not ok:\n",
    "            statuses[i] = 0\n",
    "            \n",
    "def disable_bad_items(frame):\n",
    "    disable_bad_items_numba(to_numba_list(frame['class']), to_numba_list(frame['name']), frame['status'].to_numpy())\n",
    "\n",
    "def sort_frame(frame):\n",
    "    frame.sort_values(by='viewCount', kind='mergesort', ascending=False, inplace=True)\n",
    "    frame.sort_values(by='price', kind='mergesort', inplace=True)\n",
    "    frame.sort_values(by='class', kind='mergesort', inplace=True)"
   ]
  },
  {
   "cell_type": "code",
   "execution_count": 5,
   "metadata": {},
   "outputs": [
    {
     "name": "stderr",
     "output_type": "stream",
     "text": [
      "<ipython-input-4-814fdbae9d27>:11: NumbaTypeSafetyWarning: \u001b[1m\u001b[1m\u001b[1munsafe cast from uint64 to int64. Precision may be lost.\u001b[0m\u001b[0m\u001b[0m\n",
      "  name = names[i]\n"
     ]
    }
   ],
   "source": [
    "disable_bad_items(frame)\n",
    "sort_frame(frame)"
   ]
  },
  {
   "cell_type": "code",
   "execution_count": null,
   "metadata": {},
   "outputs": [],
   "source": []
  },
  {
   "cell_type": "code",
   "execution_count": null,
   "metadata": {},
   "outputs": [],
   "source": [
    "HTML(\"\"\"\n",
    "<style>\n",
    ".\n",
    "</style>\n",
    "\"\"\")"
   ]
  },
  {
   "cell_type": "code",
   "execution_count": 46,
   "metadata": {
    "scrolled": true
   },
   "outputs": [
    {
     "data": {
      "application/vnd.jupyter.widget-view+json": {
       "model_id": "2e8a69d4bb244a918669cb7ce4aa8e7b",
       "version_major": 2,
       "version_minor": 0
      },
      "text/plain": [
       "GridspecLayout(children=(IntProgress(value=0, layout=Layout(grid_area='widget001', height='100%', width='100%'…"
      ]
     },
     "metadata": {},
     "output_type": "display_data"
    }
   ],
   "source": [
    "def create_expanded_button(description, button_style):\n",
    "    return Button(description=description, button_style=button_style, layout=Layout(height='auto', width='auto'))\n",
    "\n",
    "output = Output()\n",
    "\n",
    "class UI():\n",
    "    def __init__(self, frame, clazz, output_folder):\n",
    "        self.frame = frame\n",
    "        self.clazz = clazz\n",
    "        self.output_folder = output_folder\n",
    "        self.todo = deque(list(frame[frame['class'] == clazz].index))\n",
    "        self.accept = []\n",
    "        self.reject = []\n",
    "        self.to_skip = set()\n",
    "        self.undo_queue = deque()\n",
    "        \n",
    "        self.yes_button = create_expanded_button(\"Yes\", 'success')\n",
    "        self.no_button = create_expanded_button(\"No\", 'danger')\n",
    "        self.undo_button = create_expanded_button(\"Undo\", 'warning')\n",
    "        self.save_button = create_expanded_button(\"Save\", 'info')\n",
    "        \n",
    "        self.yes_button.on_click(self.yes)\n",
    "        self.no_button.on_click(self.no)\n",
    "        self.undo_button.on_click(self.undo)\n",
    "        self.save_button.on_click(self.save_state)\n",
    "\n",
    "        self.progress_bar = IntProgress(value=0, min=0, max=len(self.todo), layout=Layout(width='100%' ,height='100%'))\n",
    "\n",
    "        grid = GridspecLayout(5, 10, height='800px')\n",
    "        grid[1, :] = self.progress_bar\n",
    "        grid[2, :4] = self.yes_button\n",
    "        grid[2, 4:8] = self.no_button\n",
    "        grid[2, 8] = self.undo_button\n",
    "        grid[2, 9] = self.save_button\n",
    "        self.grid = grid\n",
    "        self.current_id = None\n",
    "        \n",
    "        self.load_state()\n",
    "        \n",
    "    def update_ui(self):\n",
    "        if self.current_id == None:\n",
    "            self.grid[0, :] = HTML(f\"\"\"<h2>DONE!!!!!!!</h2>\"\"\")\n",
    "            self.grid[0, :] = HTML(f\"\"\"<h2>DONE!!!!!!!</h2>\"\"\")\n",
    "            self.grid[3, :] = HTML(f\"\"\"<h2>DONE!!!!!!!</h2>\"\"\")\n",
    "            self.grid[4, :] = HTML(f\"\"\"<h2>DONE!!!!!!!</h2>\"\"\")\n",
    "            return\n",
    "        current_item = self.frame.loc[self.current_id]\n",
    "        self.grid[0, :] = HTML(f\"\"\"<h2>Class: {current_item['class']}</h2>\"\"\")\n",
    "        self.grid[3, :] = HTML(f\"\"\"<a target='blank' href='{current_item['viewerUrl']}'>{current_item['name']}</a>, ${current_item['price']/ 100}\"\"\")\n",
    "        image = Image.from_url(current_item['image-3'])\n",
    "        image.layout = Layout(width='100%', max_height='550px')\n",
    "        self.grid[4, :] = image\n",
    "        self.progress_bar.value= len(self.accept) + len(self.reject)\n",
    "        self.yes_button.description = f\"\"\"Yes ({len(self.accept)})\"\"\"\n",
    "        self.no_button.description = f\"\"\"No ({len(self.reject)})\"\"\"\n",
    "        \n",
    "        \n",
    "    def display(self):\n",
    "        return self.grid\n",
    "    \n",
    "    def next_element(self):\n",
    "        try:\n",
    "            self.current_id = self.todo.popleft()\n",
    "        except:\n",
    "            self.current_id = None\n",
    "            self.save_state()\n",
    "        if self.current_id is not None and self.current_id in self.to_skip:\n",
    "            self.next_element()\n",
    "        else:\n",
    "            self.update_ui()\n",
    "        \n",
    "    @property\n",
    "    def target_path(self):\n",
    "        return path.join(self.output_folder, f\"\"\"class-{self.clazz}.pkl\"\"\")\n",
    "    \n",
    "    def load_state(self):\n",
    "        try:\n",
    "            with open(self.target_path, 'rb') as h:\n",
    "                state = pickle.load(h)\n",
    "                self.accept = state['accept']\n",
    "                self.reject = state['reject']\n",
    "                for a in state['accept']:\n",
    "                    self.to_skip.add(a)\n",
    "                for a in state['reject']:\n",
    "                    self.to_skip.add(a)\n",
    "        except:\n",
    "            pass\n",
    "        \n",
    "    \n",
    "    def save_state(self, *args):\n",
    "        state = {\n",
    "            'accept': self.accept,\n",
    "            'reject': self.reject\n",
    "        }\n",
    "        with open(self.target_path, 'wb') as h:\n",
    "            pickle.dump(state, h)\n",
    "    \n",
    "    def yes(self, *args):\n",
    "        self.accept.append(self.current_id)\n",
    "        self.undo_queue.append(\"yes\")\n",
    "        self.next_element()\n",
    "        \n",
    "    def no(self, *args):\n",
    "        self.reject.append(self.current_id)\n",
    "        self.undo_queue.append(\"no\")\n",
    "        self.next_element()\n",
    "        \n",
    "    def undo(self, *args):\n",
    "        try:\n",
    "            to_remove = self.undo_queue.pop()\n",
    "        except:\n",
    "            pass\n",
    "            \n",
    "        if to_remove == \"yes\":\n",
    "            target = self.accept\n",
    "        else:\n",
    "            target = self.reject\n",
    "        element = target.pop()\n",
    "        self.todo.appendleft(self.current_id)\n",
    "        self.todo.appendleft(element)\n",
    "        self.next_element()\n",
    "    \n",
    "    \n",
    "ui = UI(frame, classes[16], './labeling')\n",
    "ui.next_element()\n",
    "ui.display()"
   ]
  },
  {
   "cell_type": "code",
   "execution_count": 18,
   "metadata": {},
   "outputs": [
    {
     "data": {
      "application/vnd.jupyter.widget-view+json": {
       "model_id": "265572cd6cd04287a6746e7f9e03f331",
       "version_major": 2,
       "version_minor": 0
      },
      "text/plain": [
       "HTML(value='\\n<style>\\n.unselected-image {\\n    opacity:0.5\\n}\\n\\n.my-box {\\n    position: relative\\n}\\n</styl…"
      ]
     },
     "metadata": {},
     "output_type": "display_data"
    }
   ],
   "source": [
    "HTML(\"\"\"\n",
    "<style>\n",
    ".unselected-image {\n",
    "    opacity:0.5\n",
    "}\n",
    "\n",
    ".my-box {\n",
    "    position: relative\n",
    "}\n",
    "</style>\n",
    "\"\"\")"
   ]
  },
  {
   "cell_type": "code",
   "execution_count": 135,
   "metadata": {
    "scrolled": false
   },
   "outputs": [
    {
     "data": {
      "application/vnd.jupyter.widget-view+json": {
       "model_id": "c7fa8d8067a246ab9ce10460b4039982",
       "version_major": 2,
       "version_minor": 0
      },
      "text/plain": [
       "VBox(children=(HTML(value='<h2>Class: pillow</h2>'), IntProgress(value=0, layout=Layout(width='100%'), max=19)…"
      ]
     },
     "metadata": {},
     "output_type": "display_data"
    }
   ],
   "source": [
    "def create_expanded_button(description, button_style):\n",
    "    return Button(description=description, button_style=button_style, layout=Layout(height='auto', width='auto'))\n",
    "\n",
    "\n",
    "class ImageDisplay():\n",
    "    def __init__(self, current_item, store):\n",
    "        self.current_item = current_item\n",
    "        self.store = store\n",
    "        try:\n",
    "            self.image = Image.from_url(current_item['image-3'])\n",
    "        except:\n",
    "            self.image = HTML('Unable to load')\n",
    "        self.selected = store[self.current_item['uid']]\n",
    "        self.yes_button = create_expanded_button(\"Select\", 'danger')\n",
    "        self.yes_button.layout.height = '30px'\n",
    "        self.no_button = create_expanded_button(\"Remove\", 'success')\n",
    "        self.no_button.layout.height = '30px'\n",
    "        self.yes_button.on_click(self.switch_status)\n",
    "        self.no_button.on_click(self.switch_status)\n",
    "        self.image.layout = Layout(max_width='99%')\n",
    "        self.title = HTML(f\"\"\"<a target='blank' href='{current_item['viewerUrl']}'>{current_item['name'][:30]}</a>, ${current_item['price']/ 100}\"\"\")\n",
    "        self.box = VBox()\n",
    "        self.update_status()\n",
    "        \n",
    "    def switch_status(self, *kwargs):\n",
    "        self.selected = not self.selected\n",
    "        self.update_status()\n",
    "    \n",
    "    def update_status(self):\n",
    "        t = str(self.selected)\n",
    "        if self.selected:\n",
    "            self.image.remove_class('unselected-image')\n",
    "            button = self.no_button\n",
    "        else:\n",
    "            self.image.add_class('unselected-image')\n",
    "            button = self.yes_button\n",
    "        self.box.children = (\n",
    "            self.title,\n",
    "            self.image,\n",
    "            button\n",
    "        )\n",
    "            \n",
    "        self.store[self.current_item['uid']] = self.selected\n",
    "        \n",
    "        \n",
    "    def display(self):\n",
    "        return self.box\n",
    "    \n",
    "class SelectionStore():\n",
    "    \n",
    "    def __init__(self, clazz, output_folder='/'):\n",
    "        self.output_folder = output_folder\n",
    "        self.clazz = clazz\n",
    "        self.load_store()\n",
    "        \n",
    "        \n",
    "    @property\n",
    "    def target_path(self):\n",
    "        return path.join(self.output_folder, f\"\"\"class-{self.clazz}.pkl\"\"\")\n",
    "        \n",
    "    def load_store(self):\n",
    "        try:\n",
    "            with open(self.target_path, 'rb') as h:\n",
    "                self.store = pickle.load(h)\n",
    "        except:\n",
    "            self.store = {}\n",
    "            \n",
    "    def save_store(self):\n",
    "        with open(self.target_path, 'wb') as h:\n",
    "            pickle.dump(self.store, h)\n",
    "            \n",
    "    def __getitem__(self, ix):\n",
    "        try:\n",
    "            return self.store[ix]\n",
    "        except:\n",
    "            return False\n",
    "    \n",
    "    def __setitem__(self, ix, value):\n",
    "        self.store[ix] = value\n",
    "        self.save_store()\n",
    "        \n",
    "    \n",
    "class PageDisplay():\n",
    "    def __init__(self, items, store, cols=4):\n",
    "        self.store = store\n",
    "        rows = int(np.ceil(len(items) / float(cols)))\n",
    "        self.grid = GridspecLayout(rows, cols, height='auto')\n",
    "        for i in range(len(items)):\n",
    "            current_item = items.iloc[i]\n",
    "            cr = i // cols\n",
    "            cc = i % cols\n",
    "            self.grid[cr, cc] = ImageDisplay(current_item, store).display()\n",
    "    \n",
    "    def display(self):\n",
    "        return self.grid\n",
    "    \n",
    "class ClassifierDisplay():\n",
    "    def __init__(self, frame, clazz, output_folder, items_per_page=20):\n",
    "        self.items_per_page = items_per_page\n",
    "        self.store = SelectionStore(clazz, output_folder)\n",
    "        self.relevant_rows = frame[frame['class'] == clazz]\n",
    "        next_button = create_expanded_button('Next', 'info')\n",
    "        next_button.layout.width='50%'\n",
    "        next_button.on_click(lambda x: self.update_page(1))\n",
    "        prev_button = create_expanded_button('Previous', 'info')\n",
    "        prev_button.on_click(lambda x: self.update_page(-1))\n",
    "        prev_button.layout.width='50%'\n",
    "        self.clazz = clazz\n",
    "        self.progress = IntProgress(value=0,\n",
    "                                  max=int(np.ceil(len(self.relevant_rows) / float(items_per_page))) - 1,\n",
    "                                  min=0\n",
    "                                 )\n",
    "        self.progress.layout = Layout(width='100%')\n",
    "        self.grid = VBox([\n",
    "            HTML(f\"\"\"<h2>Class: {clazz}</h2>\"\"\"),\n",
    "            self.progress,\n",
    "            HBox([prev_button, next_button]),\n",
    "            HTML(f\"\"\"<h2>Class: {clazz}</h2>\"\"\")\n",
    "        ])\n",
    "        # self.grid[0, :] = HTML(f\"\"\"<h2>Class: {clazz}</h2>\"\"\")\n",
    "        # self.grid[0, :].layout = Layout(height='30px')\n",
    "        self.page = 0\n",
    "        self.load_page()\n",
    "        \n",
    "    def update_page(self, modif):\n",
    "        self.page += modif\n",
    "        self.page = min(self.progress.max, max(self.page, self.progress.min))\n",
    "        children = list(self.grid.children)\n",
    "        children[0] =  HTML(f\"\"\"<h2>Class: {self.clazz} ({sum(self.store.store.values())})</h2>\"\"\")\n",
    "        self.grid.children = children\n",
    "        self.load_page()\n",
    "        \n",
    "    def load_page(self):\n",
    "        items_in_page = self.relevant_rows.iloc[self.page * self.items_per_page:(self.page + 1) * self.items_per_page]\n",
    "        self.progress.value = self.page\n",
    "        self.grid.children = list(self.grid.children)\n",
    "        children = list(self.grid.children)\n",
    "        children[3] = PageDisplay(items_in_page, self.store).display()\n",
    "        self.grid.children = children\n",
    "        \n",
    "    def display(self):\n",
    "        return self.grid\n",
    "        \n",
    "    \n",
    "page = ClassifierDisplay(frame, classes[61], './labeling/')\n",
    "page.display()"
   ]
  },
  {
   "cell_type": "code",
   "execution_count": 82,
   "metadata": {},
   "outputs": [],
   "source": [
    "price_map = {frame.loc[x]['uid']: frame.loc[x]['price'] for x in frame.index}"
   ]
  },
  {
   "cell_type": "code",
   "execution_count": 132,
   "metadata": {},
   "outputs": [],
   "source": [
    "all_selected_ids = set()\n",
    "count_frame = []\n",
    "missing = set(classes)\n",
    "for clazz in classes:\n",
    "    store = SelectionStore(clazz, './labeling/')\n",
    "    for k, v in store.store.items():\n",
    "        if v:\n",
    "            count_frame.append((clazz, k, price_map[k] == 0, price_map[k]))\n",
    "            try:\n",
    "                missing.remove(clazz)\n",
    "            except:\n",
    "                pass\n",
    "    \n",
    "count_frame = pd.DataFrame(count_frame, columns=['clazz', 'uid', 'free', 'price'])"
   ]
  },
  {
   "cell_type": "code",
   "execution_count": null,
   "metadata": {},
   "outputs": [],
   "source": []
  },
  {
   "cell_type": "code",
   "execution_count": 133,
   "metadata": {},
   "outputs": [
    {
     "data": {
      "text/plain": [
       "{'binder (closed)',\n",
       " 'dishrag or hand towel',\n",
       " 'dress shoe (men)',\n",
       " 'drying rack for plates',\n",
       " 'measuring cup',\n",
       " 'mixing/salad bowl',\n",
       " 'portable heater',\n",
       " 'swimming trunks'}"
      ]
     },
     "execution_count": 133,
     "metadata": {},
     "output_type": "execute_result"
    }
   ],
   "source": [
    "missing"
   ]
  },
  {
   "cell_type": "code",
   "execution_count": 118,
   "metadata": {},
   "outputs": [
    {
     "data": {
      "text/plain": [
       "array(['watch', 'tray', 'chair', 'skirt', 'jeans', 'bandaid', 'ladle',\n",
       "       'plunger', 'monitor', 'wallet', 'sandal', 'desk lamp',\n",
       "       'drinking cup', 'sleeping bag', 'sock', 'stuffed animal',\n",
       "       'bath towel', 'paintbrush', 'clothes hamper', 'iron',\n",
       "       'running shoe', 'plastic bag', 'pill bottle', 'sunglasses',\n",
       "       'lemon', 'vacuum cleaner', 'envelope', 'tie', 'helmet', 'mug',\n",
       "       'pop can', 'dress shoe (men)', 'butcher’s knife', 'match',\n",
       "       'salt shaker', 'trash bin', 'safety pin', 'binder (closed)',\n",
       "       'spatula', 'frying pan', 'pen', 'teapot', 'dress', 'strainer',\n",
       "       'swimming trunks', 'ruler', 'pitcher', 'drying rack for plates',\n",
       "       'bucket', 'hair dryer', 'mixing/salad bowl', 'padlock',\n",
       "       'laptop (open)', 'necklace', 'portable heater', 'screw',\n",
       "       'soap dispenser', 'bread loaf', 'bottle cap', 'beer bottle',\n",
       "       'combination lock', 'keyboard', 'measuring cup', 'pillow',\n",
       "       'doormat', 'suit jacket', 'candle', 'alarm clock', 'letter opener',\n",
       "       'toilet paper roll', 'microwave', 'lampshade', 'speaker', 'orange',\n",
       "       'tv', 'plate', 'remote control', 'backpack', 'soup bowl',\n",
       "       'computer mouse', 'nail', 'vase', 'still camera',\n",
       "       'dishrag or hand towel', 'banana', 'bicycle', 'paper towel',\n",
       "       'printer', 'toaster', 'basket', 'broom', 'hammer', 'lighter',\n",
       "       'shovel', 'drill', 'can opener', 'sweater', 't-shirt', 'umbrella',\n",
       "       'lipstick', 'tennis racket', 'fan', 'bench', 'cellphone',\n",
       "       'french press'], dtype='<U22')"
      ]
     },
     "execution_count": 118,
     "metadata": {},
     "output_type": "execute_result"
    }
   ],
   "source": [
    "groupped = count_frame.groupby(['clazz']).count()\n",
    "order_ints = np.argsort(groupped['uid'].values)\n",
    "order_strings = np.array(classes)[order_ints]"
   ]
  },
  {
   "cell_type": "code",
   "execution_count": 129,
   "metadata": {},
   "outputs": [
    {
     "data": {
      "image/png": "[encoded data removed]",
      "text/plain": [
       "<Figure size 720x1440 with 1 Axes>"
      ]
     },
     "metadata": {
      "needs_background": "light"
     },
     "output_type": "display_data"
    }
   ],
   "source": [
    "sns.countplot(y='clazz', hue='free', data=count_frame, order=count_frame['clazz'].value_counts().index, orient='h')\n",
    "plt.gcf().set_size_inches((10, 20))\n",
    "plt.gca().set_xscale('log')"
   ]
  },
  {
   "cell_type": "code",
   "execution_count": 184,
   "metadata": {},
   "outputs": [
    {
     "data": {
      "text/plain": [
       "2318"
      ]
     },
     "execution_count": 184,
     "metadata": {},
     "output_type": "execute_result"
    }
   ],
   "source": [
    "import heapq\n",
    "\n",
    "fast_index_dict = dict((a, b) for (b, a) in enumerate(classes))\n",
    "class_queues = []\n",
    "result_matrix = np.zeros((len(count_frame) + 1, len(classes)))\n",
    "to_do = 0\n",
    "cost_list = []\n",
    "for clazz in classes:\n",
    "    current_queue = []\n",
    "    store = SelectionStore(clazz, './labeling/')\n",
    "    free_count = 0\n",
    "    cid = fast_index_dict[clazz]\n",
    "    for k, v in store.store.items():\n",
    "        if v:\n",
    "            price = price_map[k]\n",
    "            if price == 0:\n",
    "                free_count += 1\n",
    "            else:\n",
    "                heapq.heappush(current_queue, price)\n",
    "                to_do += 1\n",
    "    result_matrix[0, cid] = free_count\n",
    "    if len(current_queue):\n",
    "        class_queues.append((free_count, cid, current_queue))\n",
    "    \n",
    "    \n",
    "\n",
    "for i in range(1, to_do + 1):\n",
    "    cc, cid, c_queue = heapq.heappop(class_queues)\n",
    "    cc += 1\n",
    "    c_price = heapq.heappop(c_queue)\n",
    "    cost_list.append(c_price)\n",
    "    result_matrix[i] = result_matrix[i-1]\n",
    "    result_matrix[i, cid] = cc\n",
    "    if len(c_queue):\n",
    "        heapq.heappush(class_queues, (cc, cid, c_queue))\n",
    "        \n",
    "result_matrix = result_matrix[:to_do + 1]\n",
    "len(cost_list)"
   ]
  },
  {
   "cell_type": "code",
   "execution_count": 193,
   "metadata": {},
   "outputs": [
    {
     "data": {
      "text/plain": [
       "664.634876091854"
      ]
     },
     "execution_count": 193,
     "metadata": {},
     "output_type": "execute_result"
    }
   ],
   "source": [
    "frame['price'].mean()"
   ]
  },
  {
   "cell_type": "code",
   "execution_count": 194,
   "metadata": {},
   "outputs": [
    {
     "data": {
      "image/png": "[encoded data removed]",
      "text/plain": [
       "<Figure size 720x720 with 1 Axes>"
      ]
     },
     "metadata": {
      "needs_background": "light"
     },
     "output_type": "display_data"
    }
   ],
   "source": [
    "plt.plot(result_matrix.sum(1)[1:], np.cumsum(cost_list) / 100)\n",
    "plt.xlabel('number of object in the dataset')\n",
    "plt.ylabel('Dataset cost')\n",
    "plt.grid()\n",
    "plt.gcf().set_size_inches(10, 10)"
   ]
  },
  {
   "cell_type": "code",
   "execution_count": 206,
   "metadata": {},
   "outputs": [
    {
     "data": {
      "image/png": "[encoded data removed]",
      "text/plain": [
       "<Figure size 720x720 with 1 Axes>"
      ]
     },
     "metadata": {
      "needs_background": "light"
     },
     "output_type": "display_data"
    }
   ],
   "source": [
    "thresholds = [5, 10, 15, 15, 20, 50, 100]\n",
    "\n",
    "for t in thresholds:\n",
    "    serie = (result_matrix >= t).sum(1)\n",
    "    plt.plot(np.cumsum(cost_list) / 100, serie[1:], label=\"threshold \" + str(t))\n",
    "\n",
    "plt.ylabel('number of classes above threshold')\n",
    "plt.xlabel('budget')\n",
    "plt.legend(loc='upper right')\n",
    "plt.grid()\n",
    "plt.gcf().set_size_inches(10, 10)\n",
    "    "
   ]
  },
  {
   "cell_type": "code",
   "execution_count": 211,
   "metadata": {},
   "outputs": [
    {
     "data": {
      "image/png": "[encoded data removed]",
      "text/plain": [
       "<Figure size 720x720 with 1 Axes>"
      ]
     },
     "metadata": {
      "needs_background": "light"
     },
     "output_type": "display_data"
    }
   ],
   "source": [
    "thresholds = [5, 10, 15, 15, 20, 50, 100]\n",
    "\n",
    "for t in thresholds:\n",
    "    missing = (np.clip(t - result_matrix, 0, np.inf)).sum(1)\n",
    "    plt.plot(np.cumsum(cost_list) / 100, missing[1:], label=\"target \" + str(t))\n",
    "\n",
    "plt.ylabel('Number of models to out-source to reach target')\n",
    "plt.xlabel('budget')\n",
    "plt.yscale('log')\n",
    "plt.legend(loc='upper right')\n",
    "plt.grid()\n",
    "plt.gcf().set_size_inches(10, 10)\n",
    "    "
   ]
  },
  {
   "cell_type": "code",
   "execution_count": 142,
   "metadata": {},
   "outputs": [
    {
     "data": {
      "text/plain": [
       "['__class__',\n",
       " '__del__',\n",
       " '__delattr__',\n",
       " '__dict__',\n",
       " '__dir__',\n",
       " '__doc__',\n",
       " '__eq__',\n",
       " '__format__',\n",
       " '__ge__',\n",
       " '__getattribute__',\n",
       " '__getstate__',\n",
       " '__gt__',\n",
       " '__hash__',\n",
       " '__init__',\n",
       " '__init_subclass__',\n",
       " '__le__',\n",
       " '__lt__',\n",
       " '__module__',\n",
       " '__ne__',\n",
       " '__new__',\n",
       " '__reduce__',\n",
       " '__reduce_ex__',\n",
       " '__repr__',\n",
       " '__setattr__',\n",
       " '__setstate__',\n",
       " '__sizeof__',\n",
       " '__str__',\n",
       " '__subclasshook__',\n",
       " '__weakref__',\n",
       " '_add_notifiers',\n",
       " '_call_widget_constructed',\n",
       " '_comm_changed',\n",
       " '_compare',\n",
       " '_cross_validation_lock',\n",
       " '_default_keys',\n",
       " '_display_callbacks',\n",
       " '_dom_classes',\n",
       " '_fire_children_displayed',\n",
       " '_gen_repr_from_keys',\n",
       " '_get_embed_state',\n",
       " '_handle_custom_msg',\n",
       " '_handle_displayed',\n",
       " '_handle_msg',\n",
       " '_holding_sync',\n",
       " '_ipython_display_',\n",
       " '_is_numpy',\n",
       " '_lock_property',\n",
       " '_log_default',\n",
       " '_model_id',\n",
       " '_model_module',\n",
       " '_model_module_version',\n",
       " '_model_name',\n",
       " '_msg_callbacks',\n",
       " '_notify_trait',\n",
       " '_property_lock',\n",
       " '_register_validator',\n",
       " '_remove_notifiers',\n",
       " '_repr_keys',\n",
       " '_send',\n",
       " '_should_send_property',\n",
       " '_states_to_send',\n",
       " '_trait_default_generators',\n",
       " '_trait_from_json',\n",
       " '_trait_notifiers',\n",
       " '_trait_to_json',\n",
       " '_trait_validators',\n",
       " '_trait_values',\n",
       " '_view_count',\n",
       " '_view_module',\n",
       " '_view_module_version',\n",
       " '_view_name',\n",
       " '_widget_construction_callback',\n",
       " 'add_class',\n",
       " 'add_traits',\n",
       " 'box_style',\n",
       " 'children',\n",
       " 'class_own_trait_events',\n",
       " 'class_own_traits',\n",
       " 'class_trait_names',\n",
       " 'class_traits',\n",
       " 'close',\n",
       " 'close_all',\n",
       " 'comm',\n",
       " 'cross_validation_lock',\n",
       " 'get_manager_state',\n",
       " 'get_state',\n",
       " 'get_view_spec',\n",
       " 'handle_comm_opened',\n",
       " 'has_trait',\n",
       " 'hold_sync',\n",
       " 'hold_trait_notifications',\n",
       " 'keys',\n",
       " 'layout',\n",
       " 'log',\n",
       " 'model_id',\n",
       " 'notify_change',\n",
       " 'observe',\n",
       " 'on_displayed',\n",
       " 'on_msg',\n",
       " 'on_trait_change',\n",
       " 'on_widget_constructed',\n",
       " 'open',\n",
       " 'remove_class',\n",
       " 'send',\n",
       " 'send_state',\n",
       " 'set_state',\n",
       " 'set_trait',\n",
       " 'setup_instance',\n",
       " 'trait_events',\n",
       " 'trait_metadata',\n",
       " 'trait_names',\n",
       " 'traits',\n",
       " 'unobserve',\n",
       " 'unobserve_all',\n",
       " 'widget_types',\n",
       " 'widgets']"
      ]
     },
     "execution_count": 142,
     "metadata": {},
     "output_type": "execute_result"
    }
   ],
   "source": [
    "dir(box)"
   ]
  },
  {
   "cell_type": "code",
   "execution_count": 105,
   "metadata": {},
   "outputs": [
    {
     "data": {
      "text/plain": [
       "{'215a41d8b6d44ecdbd70cc9680c0f585': True,\n",
       " '9076dcba7cce462a91218945ad47a6f7': False,\n",
       " '19f68e57f79c40658b1c6bbe434a0386': True,\n",
       " '6204a1f051ce4cba9b835a7611f875d8': False,\n",
       " '55b4e2046a954557abf8610b1ff45daf': False,\n",
       " '7a7fd4f74a9942258b6383653cefdb2f': True,\n",
       " 'b73962e648c649b7aab04e35d85eca32': False,\n",
       " '73c023c90f8d45fb88294bccade836c0': True,\n",
       " 'c0853768b05b42f8bad52841a8e62f6e': True,\n",
       " 'b7832cf1396e4dcc9513e5e1acef182b': True}"
      ]
     },
     "execution_count": 105,
     "metadata": {},
     "output_type": "execute_result"
    }
   ],
   "source": [
    "page.store"
   ]
  },
  {
   "cell_type": "code",
   "execution_count": 26,
   "metadata": {},
   "outputs": [
    {
     "name": "stderr",
     "output_type": "stream",
     "text": [
      "/home/guillaume/anaconda3/lib/python3.7/site-packages/ipykernel_launcher.py:1: FutureWarning: \n",
      "The current behaviour of 'Series.argmax' is deprecated, use 'idxmax'\n",
      "instead.\n",
      "The behavior of 'argmax' will be corrected to return the positional\n",
      "maximum in the future. For now, use 'series.values.argmax' or\n",
      "'np.argmax(np.array(values))' to get the position of the maximum\n",
      "row.\n",
      "  \"\"\"Entry point for launching an IPython kernel.\n"
     ]
    },
    {
     "data": {
      "text/plain": [
       "embedUrl          https://sketchfab.com/models/a3e012cce63642b0a...\n",
       "name                                      stygian zinogre - fan art\n",
       "uid                                a3e012cce63642b0adfe2408d4c9a96e\n",
       "reviewCount                                                       0\n",
       "viewerUrl         https://sketchfab.com/3d-models/stygian-zinogr...\n",
       "viewCount                                                       178\n",
       "price                                                        500000\n",
       "likeCount                                                        13\n",
       "animationCount                                                    0\n",
       "averageRating                                                   NaN\n",
       "inStore                                                        True\n",
       "class                                                           fan\n",
       "image-0           https://media.sketchfab.com/models/a3e012cce63...\n",
       "image-1           https://media.sketchfab.com/models/a3e012cce63...\n",
       "image-2           https://media.sketchfab.com/models/a3e012cce63...\n",
       "image-3           https://media.sketchfab.com/models/a3e012cce63...\n",
       "image-4           https://media.sketchfab.com/models/a3e012cce63...\n",
       "image-5                                                         NaN\n",
       "image-6                                                         NaN\n",
       "image-7                                                         NaN\n",
       "image-8                                                         NaN\n",
       "status                                                           -1\n",
       "Name: 10386, dtype: object"
      ]
     },
     "execution_count": 26,
     "metadata": {},
     "output_type": "execute_result"
    }
   ],
   "source": [
    "frame.loc[frame['price'].argmax()]"
   ]
  }
 ],
 "metadata": {
  "kernelspec": {
   "display_name": "Python 3",
   "language": "python",
   "name": "python3"
  },
  "language_info": {
   "codemirror_mode": {
    "name": "ipython",
    "version": 3
   },
   "file_extension": ".py",
   "mimetype": "text/x-python",
   "name": "python",
   "nbconvert_exporter": "python",
   "pygments_lexer": "ipython3",
   "version": "3.7.5"
  }
 },
 "nbformat": 4,
 "nbformat_minor": 4
}
